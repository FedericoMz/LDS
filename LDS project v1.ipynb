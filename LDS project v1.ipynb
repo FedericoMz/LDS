{
 "cells": [
  {
   "cell_type": "code",
   "execution_count": 1,
   "metadata": {},
   "outputs": [],
   "source": [
    "import pyodbc \n",
    "import csv\n",
    "from csv import reader"
   ]
  },
  {
   "cell_type": "code",
   "execution_count": 2,
   "metadata": {},
   "outputs": [],
   "source": [
    "# Connessione al server\n",
    "server = 'lds.di.unipi.it' \n",
    "database = 'GROUP_22_DB' \n",
    "username = 'Group_22' \n",
    "password = 'VY3XFPQF' \n",
    "\n",
    "connectionString = 'DRIVER={ODBC Driver 17 for SQL Server};SERVER='+server+';DATABASE='+database+';UID='+username+';PWD='+ password\n",
    "cnxn = pyodbc.connect(connectionString)\n",
    "cursor = cnxn.cursor()"
   ]
  },
  {
   "cell_type": "code",
   "execution_count": 3,
   "metadata": {},
   "outputs": [],
   "source": [
    "# funzione per effettuare il typecast. Leggendo i file csv tutto viene castato a str \n",
    "def check_type(el):\n",
    "    if(type(el)==str):\n",
    "        try:\n",
    "            return int(el)\n",
    "        except(ValueError, TypeError):\n",
    "            return el"
   ]
  },
  {
   "cell_type": "code",
   "execution_count": 1,
   "metadata": {
    "tags": []
   },
   "outputs": [
    {
     "ename": "NameError",
     "evalue": "name 'reader' is not defined",
     "output_type": "error",
     "traceback": [
      "\u001b[1;31m---------------------------------------------------------------------------\u001b[0m",
      "\u001b[1;31mNameError\u001b[0m                                 Traceback (most recent call last)",
      "\u001b[1;32m<ipython-input-1-d1f13456c6ef>\u001b[0m in \u001b[0;36m<module>\u001b[1;34m\u001b[0m\n\u001b[0;32m      3\u001b[0m \u001b[1;32mfor\u001b[0m \u001b[0mtab_csv\u001b[0m\u001b[1;33m,\u001b[0m \u001b[0mtab_name\u001b[0m \u001b[1;32min\u001b[0m \u001b[0mtables\u001b[0m\u001b[1;33m:\u001b[0m\u001b[1;33m\u001b[0m\u001b[1;33m\u001b[0m\u001b[0m\n\u001b[0;32m      4\u001b[0m     \u001b[0mopen_csv\u001b[0m \u001b[1;33m=\u001b[0m \u001b[0mopen\u001b[0m\u001b[1;33m(\u001b[0m\u001b[0mtab_csv\u001b[0m\u001b[1;33m)\u001b[0m\u001b[1;33m\u001b[0m\u001b[1;33m\u001b[0m\u001b[0m\n\u001b[1;32m----> 5\u001b[1;33m     \u001b[0mfile\u001b[0m \u001b[1;33m=\u001b[0m \u001b[0mreader\u001b[0m\u001b[1;33m(\u001b[0m\u001b[0mopen_csv\u001b[0m\u001b[1;33m)\u001b[0m\u001b[1;33m\u001b[0m\u001b[1;33m\u001b[0m\u001b[0m\n\u001b[0m\u001b[0;32m      6\u001b[0m     \u001b[0mheader\u001b[0m \u001b[1;33m=\u001b[0m \u001b[0mnext\u001b[0m\u001b[1;33m(\u001b[0m\u001b[0mfile\u001b[0m\u001b[1;33m)\u001b[0m\u001b[1;33m\u001b[0m\u001b[1;33m\u001b[0m\u001b[0m\n\u001b[0;32m      7\u001b[0m     \u001b[0mplaceholders\u001b[0m \u001b[1;33m=\u001b[0m \u001b[1;34m\"?\"\u001b[0m\u001b[1;33m\u001b[0m\u001b[1;33m\u001b[0m\u001b[0m\n",
      "\u001b[1;31mNameError\u001b[0m: name 'reader' is not defined"
     ]
    }
   ],
   "source": [
    "tables = [(\"data/date.csv\", \"Date\"), (\"data/tourney.csv\", \"Tournament\"),(\"data/geography.csv\", \"Geography\"), (\"data/player.csv\", \"Player\"), (\"data/match.csv\", \"Match\")]\n",
    "\n",
    "for tab_csv, tab_name in tables:\n",
    "    open_csv = open(tab_csv)\n",
    "    file = reader(open_csv)\n",
    "    header = next(file)\n",
    "    placeholders = \"?\"\n",
    "    print(\"Inserisco i dati nella tabella \" + tab_name + \"...\")\n",
    "    \n",
    "    for i in range(len(header) - 1): \n",
    "        placeholders += \",?\"\n",
    "        \n",
    "    tablename = \"[Group_22_DB].Group_22.[\"+ tab_name +\"] (\" + \", \".join(header) + \")\"\n",
    "    \n",
    "    query =  \"INSERT INTO \"+ tablename + \" VALUES \" + \"(\"+placeholders+\")\"\n",
    "\n",
    "    for line in file:\n",
    "        new_line = []\n",
    "        for el in line:\n",
    "            #torney_revenue è l'unico valore float. \n",
    "            #Si controlla quindi il nome della tabella e se el == al valore nella \n",
    "            #colonna tourney_revenue\n",
    "            if((tab_name == \"Tournament\") and (el == line[-1])):\n",
    "                line2 = float(el)\n",
    "                new_line.append(line2)\n",
    "            else:\n",
    "                line2 = check_type(el)\n",
    "                new_line.append(line2)\n",
    "        cursor.execute(query, tuple(new_line))\n",
    "    \n",
    "    open_csv.close()\n",
    "        \n",
    "cursor.commit()\n",
    "print(\"Dati inseriti\")\n",
    "cursor.close()\n",
    "cnxn.close()"
   ]
  },
  {
   "cell_type": "code",
   "execution_count": null,
   "metadata": {},
   "outputs": [],
   "source": []
  }
 ],
 "metadata": {
  "kernelspec": {
   "display_name": "Python 3",
   "language": "python",
   "name": "python3"
  },
  "language_info": {
   "codemirror_mode": {
    "name": "ipython",
    "version": 3
   },
   "file_extension": ".py",
   "mimetype": "text/x-python",
   "name": "python",
   "nbconvert_exporter": "python",
   "pygments_lexer": "ipython3",
   "version": "3.8.5"
  }
 },
 "nbformat": 4,
 "nbformat_minor": 4
}
