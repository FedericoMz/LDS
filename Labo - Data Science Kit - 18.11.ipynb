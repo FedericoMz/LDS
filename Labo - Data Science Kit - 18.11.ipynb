{
 "cells": [
  {
   "cell_type": "code",
   "execution_count": 1,
   "id": "c2bba313",
   "metadata": {},
   "outputs": [],
   "source": [
    "import csv"
   ]
  },
  {
   "cell_type": "code",
   "execution_count": null,
   "id": "7645535e",
   "metadata": {},
   "outputs": [],
   "source": []
  },
  {
   "cell_type": "code",
   "execution_count": 2,
   "id": "ed6a7242",
   "metadata": {},
   "outputs": [],
   "source": [
    "#!!! date_id manca in date.csv e tourney.csv !!!"
   ]
  },
  {
   "cell_type": "code",
   "execution_count": null,
   "id": "5a6591c2",
   "metadata": {},
   "outputs": [],
   "source": []
  },
  {
   "cell_type": "code",
   "execution_count": 3,
   "id": "43e74e55",
   "metadata": {},
   "outputs": [],
   "source": [
    "rows = []\n",
    "\n",
    "with open('tennis.csv', 'r') as file:\n",
    "    data = csv.DictReader(file, delimiter=',')\n",
    "    for row in data:\n",
    "        rows.append(row)"
   ]
  },
  {
   "cell_type": "code",
   "execution_count": 4,
   "id": "6af38649",
   "metadata": {},
   "outputs": [],
   "source": [
    "for row in rows:\n",
    "    row['match_id'] = row['match_num'] + '_' + row['tourney_id']"
   ]
  },
  {
   "cell_type": "code",
   "execution_count": null,
   "id": "cbcd96c1",
   "metadata": {},
   "outputs": [],
   "source": []
  },
  {
   "cell_type": "markdown",
   "id": "5068ac74",
   "metadata": {},
   "source": [
    "# Match"
   ]
  },
  {
   "cell_type": "code",
   "execution_count": 5,
   "id": "d067a2d9",
   "metadata": {},
   "outputs": [],
   "source": [
    "match_feat = ['tourney_id', 'match_id', 'winner_id', 'loser_id', 'score', 'best_of', 'round', 'minutes', 'w_ace', \n",
    "              'w_df', 'w_svpt', 'w_1stIn', 'w_1stWon', 'w_2ndWon', 'w_SvGms', 'w_bpSaved', 'w_bpFaced', \n",
    "              'l_ace',   'l_df', 'l_svpt', 'l_1stIn', 'l_1stWon', 'l_2ndWon', 'l_SvGms', 'l_bpSaved', 'l_bpFaced', \n",
    "              'winner_rank', 'winner_rank_points', 'loser_rank', 'loser_rank_points']"
   ]
  },
  {
   "cell_type": "code",
   "execution_count": 6,
   "id": "aca98bf1",
   "metadata": {},
   "outputs": [],
   "source": [
    "match_rows = []\n",
    "\n",
    "for row in rows:\n",
    "    match_row = {k: row[k] for k in match_feat}\n",
    "    match_rows.append(match_row)"
   ]
  },
  {
   "cell_type": "markdown",
   "id": "e016a71b",
   "metadata": {},
   "source": [
    "# Players"
   ]
  },
  {
   "cell_type": "code",
   "execution_count": 7,
   "id": "172cf71d",
   "metadata": {},
   "outputs": [],
   "source": [
    "male_rows = []\n",
    "\n",
    "with open('male_players.csv', 'r') as file:\n",
    "    male_data = csv.reader(file, delimiter=',')\n",
    "    for row in male_data:\n",
    "        male_rows.append(row)\n",
    "        \n",
    "male_players = []\n",
    "\n",
    "for row in male_rows[1:]:\n",
    "    male_players.append(row[0] + \" \" + row[1])\n",
    "    \n"
   ]
  },
  {
   "cell_type": "code",
   "execution_count": 8,
   "id": "035911fa",
   "metadata": {},
   "outputs": [],
   "source": [
    "player_birth = dict()\n",
    "player_ht = dict()\n",
    "player_rows = []\n",
    "processed_id = []\n",
    "\n",
    "\n",
    "#primo ciclo for per:\n",
    "#1) creare nei dizionari i valori con i player_id e le liste vuote\n",
    "#2) riempire tali liste con tutti le ht e tutti gli year of birth\n",
    "for row in rows:\n",
    "    player_id = row['winner_id']\n",
    "    if player_id not in player_birth.keys():\n",
    "        player_birth[player_id] = []\n",
    "    if player_id not in player_ht.keys():\n",
    "        player_ht[player_id] = []\n",
    "#age ha dei missing values. In caso di missing non appendiamo niente\n",
    "    if len(row['winner_age']) > 0:\n",
    "        player_birth[player_id].append(int(row['tourney_date'][0:4]) - int(float(row['winner_age'])))\n",
    "    player_ht[player_id].append(row['winner_ht'])   \n",
    "    \n",
    "#ripetiamo per i loser\n",
    "    player_id = row['loser_id']\n",
    "    if player_id not in player_birth.keys():\n",
    "        player_birth[player_id] = []\n",
    "    if player_id not in player_ht.keys():\n",
    "        player_ht[player_id] = []\n",
    "    if len(row['loser_age']) > 0:\n",
    "        player_birth[player_id].append(int(row['tourney_date'][0:4]) - int(float(row['loser_age'])))\n",
    "    player_ht[player_id].append(row['loser_ht'])   \n",
    "\n",
    "for row in rows:\n",
    "    player_id = row['winner_id']     \n",
    "#evitiamo di processare più volte registrando ogni id in un'apposita lista\n",
    "    if player_id not in processed_id:\n",
    "        processed_id.append(player_id)\n",
    "        player_row = dict()\n",
    "        player_row['player_id'] = player_id\n",
    "        player_row['country_id'] = row['winner_ioc']\n",
    "        player_row['name'] = row['winner_name']\n",
    "        if row['winner_name'] in male_players:\n",
    "            player_row['sex'] = 'M'\n",
    "        else:\n",
    "            player_row['sex'] = 'F'\n",
    "#prendiamo l'altezza massima dalla rispettiva lista (creata nel precedente ciclo for)\n",
    "        player_row['ht'] = max(player_ht[player_id])\n",
    "        player_row['hand'] = row['winner_hand']\n",
    "#prendiamo l'anno di nascita minimo dalla rispettiva lista\n",
    "#se la lista ha len 0, quell'id aveva solo missing values come valori \n",
    "        if len(player_birth[player_id]) > 0:\n",
    "            player_row['year_of_birth'] = min(player_birth[player_id])\n",
    "        else:\n",
    "            player_row['year_of_birth'] = ''\n",
    "        player_rows.append(player_row)\n",
    "        \n",
    "#ripetiamo per i loser\n",
    "#grazie alla lista processed_id evitiamo di processare lo stesso id come winner e come loser\n",
    "    player_id = row['loser_id']     \n",
    "    if player_id not in processed_id:\n",
    "        processed_id.append(player_id)\n",
    "        player_row = dict()\n",
    "        player_row['player_id'] = player_id\n",
    "        player_row['country_id'] = row['loser_ioc']\n",
    "        player_row['name'] = row['loser_name']\n",
    "        if row['loser_name'] in male_players:\n",
    "            player_row['sex'] = 'M'\n",
    "        else:\n",
    "            player_row['sex'] = 'F'\n",
    "        player_row['ht'] = max(player_ht[player_id])\n",
    "        player_row['hand'] = row['loser_hand']\n",
    "        if len(player_birth[player_id]) > 0:\n",
    "            player_row['year_of_birth'] = min(player_birth[player_id])\n",
    "        else:\n",
    "            player_row['year_of_birth'] = ''\n",
    "        player_rows.append(player_row)"
   ]
  },
  {
   "cell_type": "markdown",
   "id": "9a1decfc",
   "metadata": {},
   "source": [
    "#  Tourney"
   ]
  },
  {
   "cell_type": "code",
   "execution_count": 9,
   "id": "b3b4271c",
   "metadata": {},
   "outputs": [],
   "source": [
    "tourney_feat = ['tourney_id', 'tourney_name', 'surface', 'draw_size', 'tourney_level', 'tourney_spectators', \n",
    "                'tourney_revenue']"
   ]
  },
  {
   "cell_type": "code",
   "execution_count": 10,
   "id": "6c8d4413",
   "metadata": {},
   "outputs": [],
   "source": [
    "tourney_rows = []\n",
    "\n",
    "for row in rows:\n",
    "    tourney_row = {k: row[k] for k in tourney_feat}\n",
    "    tourney_rows.append(tourney_row)"
   ]
  },
  {
   "cell_type": "markdown",
   "id": "1c59d315",
   "metadata": {},
   "source": [
    "# Date"
   ]
  },
  {
   "cell_type": "code",
   "execution_count": 11,
   "id": "bd5e9ea0",
   "metadata": {},
   "outputs": [],
   "source": [
    "#age ha formato: YYYYMMMDD\n",
    "\n",
    "date_rows = []\n",
    "\n",
    "for row in rows:\n",
    "    date_row = dict()\n",
    "    date_row['day'] = int(row['tourney_date'][6:])\n",
    "    date_row['month'] = int(row['tourney_date'][4:6])\n",
    "    date_row['year'] = int(row['tourney_date'][0:4])\n",
    "    if date_row['month'] in [1, 2, 3]:\n",
    "        date_row['quarter'] = 1\n",
    "    elif date_row['month'] in [4, 5, 6]:\n",
    "        date_row['quarter'] = 2\n",
    "    elif date_row['month'] in [7, 8, 9]:\n",
    "        date_row['quarter'] = 3\n",
    "    else:\n",
    "        date_row['quarter'] = 4\n",
    "    date_rows.append(date_row)\n"
   ]
  },
  {
   "cell_type": "markdown",
   "id": "22544db8",
   "metadata": {},
   "source": [
    "# Geography"
   ]
  },
  {
   "cell_type": "code",
   "execution_count": 12,
   "id": "62b5f180",
   "metadata": {},
   "outputs": [],
   "source": [
    "#lista finale\n",
    "geo_rows = []\n",
    "\n",
    "#lista delle row del country csv\n",
    "ioc_rows = []\n",
    "\n",
    "with open('country-codes.csv', 'r') as file:\n",
    "    ioc_data = csv.DictReader(file, delimiter=',')\n",
    "    for row in ioc_data:\n",
    "        ioc_rows.append(row)\n",
    "        \n",
    "#lista di tutti gli ioc unici dei nostri player\n",
    "ioc_list = []\n",
    "\n",
    "for row in player_rows:\n",
    "    ioc_list.append(row['country_id'])\n",
    "    \n",
    "ioc_list = list(set(ioc_list))"
   ]
  },
  {
   "cell_type": "code",
   "execution_count": 13,
   "id": "cdb21a39",
   "metadata": {},
   "outputs": [],
   "source": [
    "#ciclichiamo le row del country csv\n",
    "#se l'ioc è presente nella lista dei nostri ioc, prendiamo le feature di quella row che ci interessano \n",
    "for row in ioc_rows:\n",
    "    if row['IOC'] in ioc_list:\n",
    "        geo_row = dict()\n",
    "        geo_row['country_ioc'] = row['IOC']\n",
    "        geo_row['continent'] = row['Continent']\n",
    "        geo_row['language'] = row['Languages']\n",
    "        geo_rows.append(geo_row)"
   ]
  },
  {
   "cell_type": "markdown",
   "id": "0cfbeab7",
   "metadata": {},
   "source": [
    "# Export"
   ]
  },
  {
   "cell_type": "code",
   "execution_count": 15,
   "id": "db603952",
   "metadata": {},
   "outputs": [],
   "source": [
    "with open('player.csv', 'w', encoding='utf8', newline='') as output_file:\n",
    "    fc = csv.DictWriter(output_file, \n",
    "                        fieldnames=player_rows[0].keys(),\n",
    "\n",
    "                       )\n",
    "    fc.writeheader()\n",
    "    fc.writerows(player_rows)\n",
    "    \n",
    "with open('match.csv', 'w', encoding='utf8', newline='') as output_file:\n",
    "    fc = csv.DictWriter(output_file, \n",
    "                        fieldnames=match_rows[0].keys(),\n",
    "\n",
    "                       )\n",
    "    fc.writeheader()\n",
    "    fc.writerows(match_rows)\n",
    "\n",
    "with open('tourney.csv', 'w', encoding='utf8', newline='') as output_file:\n",
    "    fc = csv.DictWriter(output_file, \n",
    "                        fieldnames=tourney_rows[0].keys(),\n",
    "\n",
    "                       )\n",
    "    fc.writeheader()\n",
    "    fc.writerows(tourney_rows)\n",
    "    \n",
    "with open('date.csv', 'w', encoding='utf8', newline='') as output_file:\n",
    "    fc = csv.DictWriter(output_file, \n",
    "                        fieldnames=date_rows[0].keys(),\n",
    "\n",
    "                       )\n",
    "    fc.writeheader()\n",
    "    fc.writerows(date_rows)\n",
    "    \n",
    "with open('geography.csv', 'w', encoding='utf8', newline='') as output_file:\n",
    "    fc = csv.DictWriter(output_file, \n",
    "                        fieldnames=geo_rows[0].keys(),\n",
    "\n",
    "                       )\n",
    "    fc.writeheader()\n",
    "    fc.writerows(geo_rows)"
   ]
  }
 ],
 "metadata": {
  "kernelspec": {
   "display_name": "Python 3",
   "language": "python",
   "name": "python3"
  },
  "language_info": {
   "codemirror_mode": {
    "name": "ipython",
    "version": 3
   },
   "file_extension": ".py",
   "mimetype": "text/x-python",
   "name": "python",
   "nbconvert_exporter": "python",
   "pygments_lexer": "ipython3",
   "version": "3.8.8"
  }
 },
 "nbformat": 4,
 "nbformat_minor": 5
}
